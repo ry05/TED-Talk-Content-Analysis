{
 "metadata": {
  "language_info": {
   "codemirror_mode": {
    "name": "ipython",
    "version": 3
   },
   "file_extension": ".py",
   "mimetype": "text/x-python",
   "name": "python",
   "nbconvert_exporter": "python",
   "pygments_lexer": "ipython3",
   "version": "3.8.5"
  },
  "orig_nbformat": 2,
  "kernelspec": {
   "name": "python385jvsc74a57bd05c826387ab78e5301e950da683ca05cf4901dadac255ab8de11ebb9302ea2318",
   "display_name": "Python 3.8.5 64-bit ('wids': conda)"
  },
  "metadata": {
   "interpreter": {
    "hash": "5c826387ab78e5301e950da683ca05cf4901dadac255ab8de11ebb9302ea2318"
   }
  }
 },
 "nbformat": 4,
 "nbformat_minor": 2,
 "cells": [
  {
   "source": [
    "# Preprocessing TED Talk Corpus Data"
   ],
   "cell_type": "markdown",
   "metadata": {}
  },
  {
   "cell_type": "code",
   "execution_count": null,
   "metadata": {},
   "outputs": [],
   "source": [
    "%load_ext autoreload\n",
    "%autoreload 2\n",
    "\n",
    "import pandas as pd\n",
    "import re\n",
    "import textstat\n",
    "import warnings\n",
    "warnings.filterwarnings('ignore')"
   ]
  },
  {
   "source": [
    "## Load Data"
   ],
   "cell_type": "markdown",
   "metadata": {}
  },
  {
   "cell_type": "code",
   "execution_count": null,
   "metadata": {},
   "outputs": [],
   "source": [
    "# load data\n",
    "tr = pd.read_csv('../data/raw/transcript_data.csv')\n",
    "td = pd.read_csv('../data/raw/talk_data.csv')"
   ]
  },
  {
   "source": [
    "## Merge Data"
   ],
   "cell_type": "markdown",
   "metadata": {}
  },
  {
   "cell_type": "code",
   "execution_count": null,
   "metadata": {},
   "outputs": [],
   "source": [
    "# remove talks that do not have well-defined titles\n",
    "rem_talks = [\n",
    "    'None',\n",
    "    'My wish',\n",
    "    'If superpowers were real',\n",
    "    'Ugly History',\n",
    "    'Demo']\n",
    "\n",
    "td = td[~td.talk_name.isin(rem_talks)]\n",
    "tr = tr[~tr.title.isin(rem_talks)]"
   ]
  },
  {
   "cell_type": "code",
   "execution_count": null,
   "metadata": {},
   "outputs": [],
   "source": [
    "# merge data\n",
    "ted = td.merge(tr, left_on='talk_name', right_on='title')\n",
    "ted = ted.drop(['title'], axis=1)"
   ]
  },
  {
   "source": [
    "## Filter Data\n",
    "\n",
    "**Filtering operations**\n",
    "\n",
    "1. Remove TED-Ed videos as these are animated and not delivered on the stage\n",
    "2. Remove talks that do not have TED in the title\n",
    "3. Remove talks that are too long (set the cut-off point at 30 minutes or 1800 seconds)\n",
    "4. Remove talks that can't be placed in a specific category of TED talks (Check https://en.wikipedia.org/wiki/TED_(conference))\n",
    "5. Remove talks with transcripts that are under 15 sentences (by inspection, it was found that these were artistic performances)"
   ],
   "cell_type": "markdown",
   "metadata": {}
  },
  {
   "cell_type": "code",
   "execution_count": null,
   "metadata": {},
   "outputs": [],
   "source": [
    "# remove ted ed videos\n",
    "ted = ted[ted.event!='TED-Ed']\n",
    "\n",
    "# remove talks that do not have the name TED in the event title\n",
    "ted['ted_ev'] = ted['event'].apply(lambda x: 1 if 'TED' in x else 0)\n",
    "ted = ted[ted.ted_ev==1]\n",
    "ted = ted.drop(\"ted_ev\", axis=1)\n",
    "\n",
    "# remove very long talks\n",
    "ted = ted[ted.duration <= 1800]"
   ]
  },
  {
   "cell_type": "code",
   "execution_count": null,
   "metadata": {},
   "outputs": [],
   "source": [
    "# all events\n",
    "events = list(ted.event.unique())\n",
    "\n",
    "# categories\n",
    "events_tedx = [e for e in events if 'TEDx' in e]\n",
    "events_salon = [e for e in events if 'Salon' in e]\n",
    "events_women = [e for e in events if 'TEDWomen' in e]\n",
    "events_summit = [e for e in events if 'Summit' in e]\n",
    "events_youth = [e for e in events if 'TED-Ed Weekend' in e] +  [e for e in events if 'Youth' in e]# TEDYouth renamed to TED-Ed Weekend, check site\n",
    "events_partnerships = [e for e in events if 'TED@' in e]\n",
    "events_med = [e for e in events if 'TEDMED' in e]\n",
    "events_global = [e for e in events if 'Global' in e] + [e for e in events if 'TEDIndia' in e]\n",
    "events_active = [e for e in events if 'Active' in e] # stopped in 2015\n",
    "events_res = ['TED Residency']\n",
    "events_main = [e for e in events if 'TED1' in e] + [e for e in events if 'TED2' in e] + [e for e in events if 'TED Talks Education' in e]\n",
    "\n",
    "# special\n",
    "events_sp = events_res + events_youth + events_active + events_global + events_women + events_partnerships + events_med + events_summit + events_salon\n",
    "\n",
    "# events to remove\n",
    "events_rem = list(set(events).difference(\n",
    "    set(events_main + events_sp + events_tedx)\n",
    "))\n",
    "\n",
    "# remove all talks that do not belong to any one of the event categories above\n",
    "ted = ted[~ted.event.isin(events_rem)]"
   ]
  },
  {
   "cell_type": "code",
   "execution_count": null,
   "metadata": {},
   "outputs": [],
   "source": [
    "# add a new feature depicting the category of the TED talk\n",
    "\n",
    "def assign_category(event):\n",
    "    \"\"\"\n",
    "    Assign the talk a category\n",
    "    \"\"\"\n",
    "\n",
    "    # create dictionary\n",
    "    events_dic = {\n",
    "        'TEDx': events_tedx,\n",
    "        'TED Salon': events_salon,\n",
    "        'TED Women': events_women,\n",
    "        'TED Summit': events_summit,\n",
    "        'TED-Ed Weekend': events_youth,\n",
    "        'TED Institute': events_partnerships,\n",
    "        'TED MED': events_med,\n",
    "        'TED Global': events_global,\n",
    "        'TED Active': events_active,\n",
    "        'TED Residency': events_res,\n",
    "        'TED Main': events_main\n",
    "    }\n",
    "\n",
    "    for cat in events_dic:\n",
    "        if (event in events_dic[cat]):\n",
    "            return cat\n",
    "\n",
    "ted['event_cat'] = ted['event'].apply(assign_category)"
   ]
  },
  {
   "source": [
    "## Calculate basic descriptive statistics\n",
    "\n",
    "The purpose of this section is to perform further Exploratory Data Analysis to clean the data to include only those entries that are actually talks. For example, if the number of sentences in a transcript is too small, then it is highly likely that this transcript belongs to a musical performance rather than a talk."
   ],
   "cell_type": "markdown",
   "metadata": {}
  },
  {
   "cell_type": "code",
   "execution_count": null,
   "metadata": {},
   "outputs": [],
   "source": [
    "pattern = r\"(\\([A-Za-z]*\\))\"\n",
    "\n",
    "def rep_markers(x):\n",
    "    \"\"\"\n",
    "    Replace markers like (Laughter)\n",
    "    \"\"\"\n",
    "\n",
    "    return re.sub(pattern, '', x)\n",
    "\n",
    "def syll_cnt(x):\n",
    "\n",
    "    return textstat.syllable_count(rep_markers(x))\n",
    "\n",
    "def word_cnt(x):\n",
    "\n",
    "    return textstat.lexicon_count(rep_markers(x))\n",
    "\n",
    "def sent_cnt(x):\n",
    "\n",
    "    return textstat.sentence_count(rep_markers(x))"
   ]
  },
  {
   "cell_type": "code",
   "execution_count": null,
   "metadata": {},
   "outputs": [],
   "source": [
    "# text units\n",
    "ted['syll'] = ted['transcript'].apply(syll_cnt)\n",
    "ted['words'] = ted['transcript'].apply(word_cnt)\n",
    "ted['sent'] = ted['transcript'].apply(sent_cnt)\n",
    "\n",
    "# remove talks that are performances\n",
    "ted = ted[ted.sent > 15]"
   ]
  },
  {
   "source": [
    "## Process data and time"
   ],
   "cell_type": "markdown",
   "metadata": {}
  },
  {
   "cell_type": "code",
   "execution_count": null,
   "metadata": {},
   "outputs": [],
   "source": [
    "def get_year(x):\n",
    "\n",
    "    return int(x.strftime(\"%Y\"))\n",
    "\n",
    "def get_month(x):\n",
    "\n",
    "    return int(x.strftime(\"%m\"))\n",
    "\n",
    "# process datetime\n",
    "ted['recorded_at'] = pd.to_datetime(ted['recorded_at'])\n",
    "ted['published on'] = pd.to_datetime(ted['published on'], unit=\"s\")\n",
    "ted[\"p_year\"] = ted[\"published on\"].apply(get_year)\n",
    "ted[\"p_month\"] = ted[\"published on\"].apply(get_month)"
   ]
  },
  {
   "cell_type": "code",
   "execution_count": null,
   "metadata": {},
   "outputs": [],
   "source": [
    "# save processed corpus\n",
    "ted.to_csv('../data/interim/ted_preprocessed.csv')"
   ]
  }
 ]
}