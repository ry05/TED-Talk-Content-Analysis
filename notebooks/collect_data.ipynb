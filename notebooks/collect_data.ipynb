{
 "metadata": {
  "language_info": {
   "codemirror_mode": {
    "name": "ipython",
    "version": 3
   },
   "file_extension": ".py",
   "mimetype": "text/x-python",
   "name": "python",
   "nbconvert_exporter": "python",
   "pygments_lexer": "ipython3",
   "version": "3.8.5"
  },
  "orig_nbformat": 2,
  "kernelspec": {
   "name": "python385jvsc74a57bd05c826387ab78e5301e950da683ca05cf4901dadac255ab8de11ebb9302ea2318",
   "display_name": "Python 3.8.5 64-bit ('wids': conda)"
  },
  "metadata": {
   "interpreter": {
    "hash": "5c826387ab78e5301e950da683ca05cf4901dadac255ab8de11ebb9302ea2318"
   }
  }
 },
 "nbformat": 4,
 "nbformat_minor": 2,
 "cells": [
  {
   "source": [
    "# Data Collection from the TED Official Website"
   ],
   "cell_type": "markdown",
   "metadata": {}
  },
  {
   "cell_type": "code",
   "execution_count": null,
   "metadata": {},
   "outputs": [],
   "source": [
    "%load_ext autoreload\n",
    "%autoreload 2\n",
    "\n",
    "import sys\n",
    "sys.path.insert(0, '../src/web_scraping')\n",
    "from scrape_ted import *"
   ]
  },
  {
   "cell_type": "code",
   "execution_count": null,
   "metadata": {},
   "outputs": [],
   "source": [
    "# get talk urls\n",
    "base_url = \"https://www.ted.com/talks\"\n",
    "urls = get_urls(base_url, 1, 124)\n",
    "urls = [\"https://www.ted.com\"+url for url in urls]\n",
    "\n",
    "# save URLs\n",
    "url_file = open('../data/raw/Talk_URLs.txt', 'w')\n",
    "url_file.write('\\n'.join(urls))\n",
    "url_file.close()"
   ]
  },
  {
   "cell_type": "code",
   "execution_count": null,
   "metadata": {},
   "outputs": [],
   "source": [
    "# get urls from file\n",
    "urls = open(\"Talk_URLs.txt\").read().splitlines()\n",
    "\n",
    "# make the dataframes\n",
    "tdf = make_talk_dataframe(urls)\n",
    "spdf = make_speaker_dataframe(urls)\n",
    "trdf = make_transcript_dataframe(urls)\n",
    "\n",
    "# save the dataframes\n",
    "tdf.to_csv('../data/raw/talk_data.csv', index=False)\n",
    "spdf.to_csv('../data/raw/speaker_data.csv', index=False)\n",
    "trdf.to_csv('../data/raw/transcript_data.csv', index=False)"
   ]
  },
  {
   "cell_type": "code",
   "execution_count": 6,
   "metadata": {},
   "outputs": [],
   "source": [
    "f = pd.read_csv('../data/raw/talk_data.csv')"
   ]
  },
  {
   "cell_type": "code",
   "execution_count": 7,
   "metadata": {},
   "outputs": [
    {
     "output_type": "stream",
     "name": "stdout",
     "text": [
      "<class 'pandas.core.frame.DataFrame'>\nRangeIndex: 4322 entries, 0 to 4321\nData columns (total 8 columns):\n #   Column        Non-Null Count  Dtype \n---  ------        --------------  ----- \n 0   talk_desc     4322 non-null   object\n 1   event         4322 non-null   object\n 2   talk_name     4322 non-null   object\n 3   views         4322 non-null   int64 \n 4   duration      4322 non-null   int64 \n 5   tags          4322 non-null   object\n 6   recorded_at   4322 non-null   object\n 7   published on  4322 non-null   int64 \ndtypes: int64(3), object(5)\nmemory usage: 270.2+ KB\n"
     ]
    }
   ],
   "source": [
    "f.info()"
   ]
  }
 ]
}